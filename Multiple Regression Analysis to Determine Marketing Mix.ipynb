{
 "cells": [
  {
   "cell_type": "markdown",
   "metadata": {},
   "source": [
    "#  <span style='color:midnightblue'>  Multiple Regression Analysis to Determine Marketing Mix \n",
    "\n",
    "Source: Venkatesan et al., 2015: Cutting-Edge Marketing Analytics, pp. 103"
   ]
  },
  {
   "cell_type": "code",
   "execution_count": 4,
   "metadata": {},
   "outputs": [],
   "source": [
    "library(knitr)\n",
    "library(skimr)\n",
    "library(lm.beta)\n",
    "library(MASS)"
   ]
  },
  {
   "cell_type": "markdown",
   "metadata": {},
   "source": [
    "##  <span style='color:royalblue'>  1. Load dataset </span>"
   ]
  },
  {
   "cell_type": "code",
   "execution_count": 1,
   "metadata": {},
   "outputs": [
    {
     "ename": "ERROR",
     "evalue": "Error in read_excel(\"./data_svedka.csv\"): no se pudo encontrar la función \"read_excel\"\n",
     "output_type": "error",
     "traceback": [
      "Error in read_excel(\"./data_svedka.csv\"): no se pudo encontrar la función \"read_excel\"\nTraceback:\n"
     ]
    }
   ],
   "source": [
    "df <- read.csv(\"./data_svedka.csv\", sep = \";\")"
   ]
  },
  {
   "cell_type": "markdown",
   "metadata": {},
   "source": [
    "##  <span style='color:royalblue'>  2. Inspect dataset </span>"
   ]
  },
  {
   "cell_type": "code",
   "execution_count": 2,
   "metadata": {},
   "outputs": [
    {
     "data": {
      "text/html": [
       "<table>\n",
       "<thead><tr><th scope=col>BrandName</th><th scope=col>Brand.ID</th><th scope=col>Year</th><th scope=col>Absolut</th><th scope=col>Aristocrat</th><th scope=col>Barton</th><th scope=col>Belvedere</th><th scope=col>Burnett</th><th scope=col>Chopin</th><th scope=col>Crystal.Palac</th><th scope=col>...</th><th scope=col>YearID</th><th scope=col>total.ad</th><th scope=col>X</th><th scope=col>X.1</th><th scope=col>X.2</th><th scope=col>X.3</th><th scope=col>X.4</th><th scope=col>X.5</th><th scope=col>X.6</th><th scope=col>X.7</th></tr></thead>\n",
       "<tbody>\n",
       "\t<tr><td>Absolut</td><td>15     </td><td>1995   </td><td>1      </td><td>0      </td><td>0      </td><td>0      </td><td>0      </td><td>0      </td><td>0      </td><td>...    </td><td>3      </td><td>52343.9</td><td>NA     </td><td>NA     </td><td>NA     </td><td>NA     </td><td>NA     </td><td>NA     </td><td>NA     </td><td>NA     </td></tr>\n",
       "\t<tr><td>Absolut</td><td>15     </td><td>1996   </td><td>1      </td><td>0      </td><td>0      </td><td>0      </td><td>0      </td><td>0      </td><td>0      </td><td>...    </td><td>4      </td><td>52297.2</td><td>NA     </td><td>NA     </td><td>NA     </td><td>NA     </td><td>NA     </td><td>NA     </td><td>NA     </td><td>NA     </td></tr>\n",
       "\t<tr><td>Absolut</td><td>15     </td><td>1997   </td><td>1      </td><td>0      </td><td>0      </td><td>0      </td><td>0      </td><td>0      </td><td>0      </td><td>...    </td><td>5      </td><td>54947.9</td><td>NA     </td><td>NA     </td><td>NA     </td><td>NA     </td><td>NA     </td><td>NA     </td><td>NA     </td><td>NA     </td></tr>\n",
       "\t<tr><td>Absolut</td><td>15     </td><td>1998   </td><td>1      </td><td>0      </td><td>0      </td><td>0      </td><td>0      </td><td>0      </td><td>0      </td><td>...    </td><td>6      </td><td>57432.7</td><td>NA     </td><td>NA     </td><td>NA     </td><td>NA     </td><td>NA     </td><td>NA     </td><td>NA     </td><td>NA     </td></tr>\n",
       "\t<tr><td>Absolut</td><td>15     </td><td>1999   </td><td>1      </td><td>0      </td><td>0      </td><td>0      </td><td>0      </td><td>0      </td><td>0      </td><td>...    </td><td>7      </td><td>63213.9</td><td>NA     </td><td>NA     </td><td>NA     </td><td>NA     </td><td>NA     </td><td>NA     </td><td>NA     </td><td>NA     </td></tr>\n",
       "</tbody>\n",
       "</table>\n"
      ],
      "text/latex": [
       "\\begin{tabular}{r|lllllllllllllllllllllllllllllllllllllllllllllllllllllllllllllllllllllllllll}\n",
       " BrandName & Brand.ID & Year & Absolut & Aristocrat & Barton & Belvedere & Burnett & Chopin & Crystal.Palac & ... & YearID & total.ad & X & X.1 & X.2 & X.3 & X.4 & X.5 & X.6 & X.7\\\\\n",
       "\\hline\n",
       "\t Absolut & 15      & 1995    & 1       & 0       & 0       & 0       & 0       & 0       & 0       & ...     & 3       & 52343.9 & NA      & NA      & NA      & NA      & NA      & NA      & NA      & NA     \\\\\n",
       "\t Absolut & 15      & 1996    & 1       & 0       & 0       & 0       & 0       & 0       & 0       & ...     & 4       & 52297.2 & NA      & NA      & NA      & NA      & NA      & NA      & NA      & NA     \\\\\n",
       "\t Absolut & 15      & 1997    & 1       & 0       & 0       & 0       & 0       & 0       & 0       & ...     & 5       & 54947.9 & NA      & NA      & NA      & NA      & NA      & NA      & NA      & NA     \\\\\n",
       "\t Absolut & 15      & 1998    & 1       & 0       & 0       & 0       & 0       & 0       & 0       & ...     & 6       & 57432.7 & NA      & NA      & NA      & NA      & NA      & NA      & NA      & NA     \\\\\n",
       "\t Absolut & 15      & 1999    & 1       & 0       & 0       & 0       & 0       & 0       & 0       & ...     & 7       & 63213.9 & NA      & NA      & NA      & NA      & NA      & NA      & NA      & NA     \\\\\n",
       "\\end{tabular}\n"
      ],
      "text/markdown": [
       "\n",
       "| BrandName | Brand.ID | Year | Absolut | Aristocrat | Barton | Belvedere | Burnett | Chopin | Crystal.Palac | ... | YearID | total.ad | X | X.1 | X.2 | X.3 | X.4 | X.5 | X.6 | X.7 |\n",
       "|---|---|---|---|---|---|---|---|---|---|---|---|---|---|---|---|---|---|---|---|---|\n",
       "| Absolut | 15      | 1995    | 1       | 0       | 0       | 0       | 0       | 0       | 0       | ...     | 3       | 52343.9 | NA      | NA      | NA      | NA      | NA      | NA      | NA      | NA      |\n",
       "| Absolut | 15      | 1996    | 1       | 0       | 0       | 0       | 0       | 0       | 0       | ...     | 4       | 52297.2 | NA      | NA      | NA      | NA      | NA      | NA      | NA      | NA      |\n",
       "| Absolut | 15      | 1997    | 1       | 0       | 0       | 0       | 0       | 0       | 0       | ...     | 5       | 54947.9 | NA      | NA      | NA      | NA      | NA      | NA      | NA      | NA      |\n",
       "| Absolut | 15      | 1998    | 1       | 0       | 0       | 0       | 0       | 0       | 0       | ...     | 6       | 57432.7 | NA      | NA      | NA      | NA      | NA      | NA      | NA      | NA      |\n",
       "| Absolut | 15      | 1999    | 1       | 0       | 0       | 0       | 0       | 0       | 0       | ...     | 7       | 63213.9 | NA      | NA      | NA      | NA      | NA      | NA      | NA      | NA      |\n",
       "\n"
      ],
      "text/plain": [
       "  BrandName Brand.ID Year Absolut Aristocrat Barton Belvedere Burnett Chopin\n",
       "1 Absolut   15       1995 1       0          0      0         0       0     \n",
       "2 Absolut   15       1996 1       0          0      0         0       0     \n",
       "3 Absolut   15       1997 1       0          0      0         0       0     \n",
       "4 Absolut   15       1998 1       0          0      0         0       0     \n",
       "5 Absolut   15       1999 1       0          0      0         0       0     \n",
       "  Crystal.Palac ... YearID total.ad X  X.1 X.2 X.3 X.4 X.5 X.6 X.7\n",
       "1 0             ... 3      52343.9  NA NA  NA  NA  NA  NA  NA  NA \n",
       "2 0             ... 4      52297.2  NA NA  NA  NA  NA  NA  NA  NA \n",
       "3 0             ... 5      54947.9  NA NA  NA  NA  NA  NA  NA  NA \n",
       "4 0             ... 6      57432.7  NA NA  NA  NA  NA  NA  NA  NA \n",
       "5 0             ... 7      63213.9  NA NA  NA  NA  NA  NA  NA  NA "
      ]
     },
     "metadata": {},
     "output_type": "display_data"
    }
   ],
   "source": [
    "head(df,5)"
   ]
  },
  {
   "cell_type": "code",
   "execution_count": 5,
   "metadata": {},
   "outputs": [
    {
     "name": "stdout",
     "output_type": "stream",
     "text": [
      "── Data Summary ────────────────────────\n",
      "                           Values\n",
      "Name                       df    \n",
      "Number of rows             263   \n",
      "Number of columns          75    \n",
      "_______________________          \n",
      "Column type frequency:           \n",
      "  factor                   2     \n",
      "  logical                  8     \n",
      "  numeric                  65    \n",
      "________________________         \n",
      "Group variables            None  \n",
      "\n",
      "── Variable type: factor ───────────────────────────────────────────────────────\n",
      "  skim_variable n_missing complete_rate ordered n_unique\n",
      "1 BrandName             0             1 FALSE         27\n",
      "2 diff                  0             1 FALSE         63\n",
      "  top_counts                        \n",
      "1 Abs: 13, Ari: 13, Bar: 13, Cry: 13\n",
      "2 2%: 20, 3%: 13, 4%: 13, 0%: 12    \n",
      "\n",
      "── Variable type: logical ──────────────────────────────────────────────────────\n",
      "  skim_variable n_missing complete_rate  mean count\n",
      "1 X                   263             0   NaN \": \" \n",
      "2 X.1                 263             0   NaN \": \" \n",
      "3 X.2                 263             0   NaN \": \" \n",
      "4 X.3                 263             0   NaN \": \" \n",
      "5 X.4                 263             0   NaN \": \" \n",
      "6 X.5                 263             0   NaN \": \" \n",
      "7 X.6                 263             0   NaN \": \" \n",
      "8 X.7                 263             0   NaN \": \" \n",
      "\n",
      "── Variable type: numeric ──────────────────────────────────────────────────────\n",
      "   skim_variable       n_missing complete_rate         mean          sd\n",
      " 1 Brand.ID                    0         1         12.6          7.65  \n",
      " 2 Year                        0         1       2002.           3.64  \n",
      " 3 Absolut                     0         1          0.0494       0.217 \n",
      " 4 Aristocrat                  0         1          0.0494       0.217 \n",
      " 5 Barton                      0         1          0.0494       0.217 \n",
      " 6 Belvedere                   0         1          0.0266       0.161 \n",
      " 7 Burnett                     0         1          0.0418       0.201 \n",
      " 8 Chopin                      0         1          0.0266       0.161 \n",
      " 9 Crystal.Palac               0         1          0.0494       0.217 \n",
      "10 Finlandia                   0         1          0.0494       0.217 \n",
      "11 Fleischmann.s               0         1          0.0456       0.209 \n",
      "12 Fris                        0         1          0.0380       0.192 \n",
      "13 Gilbey.s                    0         1          0.0494       0.217 \n",
      "14 Gordon.s                    0         1          0.0494       0.217 \n",
      "15 Grey.Goose                  0         1          0.0342       0.182 \n",
      "16 Kamchatka                   0         1          0.0494       0.217 \n",
      "17 Ketel.One                   0         1          0.0304       0.172 \n",
      "18 Level                       0         1          0.00760      0.0870\n",
      "19 McCormick                   0         1          0.0380       0.192 \n",
      "20 Polar.Ice                   0         1          0.0114       0.106 \n",
      "21 Popov                       0         1          0.0494       0.217 \n",
      "22 Pravda                      0         1          0.00760      0.0870\n",
      "23 Seagram.s                   0         1          0.00380      0.0617\n",
      "24 Skol                        0         1          0.0494       0.217 \n",
      "25 Sky                         0         1          0.0380       0.192 \n",
      "26 Smirnoff                    0         1          0.0494       0.217 \n",
      "27 Stolicnaya                  0         1          0.0494       0.217 \n",
      "28 Tanqueray                   0         1          0.0342       0.182 \n",
      "29 Three.Olives                0         1          0.0228       0.150 \n",
      "30 TotalSales                  0         1       1400.        1598.    \n",
      "31 LagTotalSales               0         1       1348.        1544.    \n",
      "32 X2LagTotalSales             0         1       1303.        1503.    \n",
      "33 LnSales                     0         1          6.71         1.11  \n",
      "34 LnLSales                    0         1          6.64         1.16  \n",
      "35 Ln2Lsales                   0         1          6.57         1.22  \n",
      "36 LnDiff                      0         1          0.0640       0.179 \n",
      "37 IfDom                       0         1          0.612        0.488 \n",
      "38 DollarSales                 0         1     113913.      166366.    \n",
      "39 PriceRerUnit                0         1         83.7         57.1   \n",
      "40 LagPrice                   13         0.951    233.        1721.    \n",
      "41 LnPrice                     0         1          4.22         0.633 \n",
      "42 LnLPrice                   13         0.951      4.22         0.793 \n",
      "43 Mag                         0         1       3280.        6691.    \n",
      "44 News                        0         1        194.         550.    \n",
      "45 Outdoor                     0         1        162.         467.    \n",
      "46 Broad                       0         1        276.        1044.    \n",
      "47 Print                       0         1       3474.        6878.    \n",
      "48 LnMag                       0         1          3.03         4.15  \n",
      "49 LnNews                      0         1          1.55         2.68  \n",
      "50 LnOut                       0         1          1.35         2.53  \n",
      "51 LnBroad                     0         1          0.981        2.43  \n",
      "52 LnPrint                     0         1          3.34         4.22  \n",
      "53 Tier1                       0         1          0.232        0.423 \n",
      "54 Tier2                       0         1          0.247        0.432 \n",
      "55 TotalMinusSales             0         1      62654.        1600.    \n",
      "56 LagTotalMinusSales          0         1      62674.        1548.    \n",
      "57 TierSales                   0         1       9547.        2917.    \n",
      "58 OutsideTierSales            0         1      53107.        2260.    \n",
      "59 LagTierSales                0         1       9216.        2947.    \n",
      "60 LagOutsideTierSales         0         1      53458.        2327.    \n",
      "61 Firstintro                  0         1          0.0152       0.123 \n",
      "62 Marketshare                 0         1          0.0470       0.0538\n",
      "63 LagMktshare                 0         1          0.0475       0.0547\n",
      "64 YearID                      0         1          9.70         3.64  \n",
      "65 total.ad                    0         1       7386.       14281.    \n",
      "             p0         p25         p50          p75       p100 hist \n",
      " 1     1            6          12           18           31     ▇▆▅▅▁\n",
      " 2  1995         1999        2002         2005         2007     ▅▃▇▅▇\n",
      " 3     0            0           0            0            1     ▇▁▁▁▁\n",
      " 4     0            0           0            0            1     ▇▁▁▁▁\n",
      " 5     0            0           0            0            1     ▇▁▁▁▁\n",
      " 6     0            0           0            0            1     ▇▁▁▁▁\n",
      " 7     0            0           0            0            1     ▇▁▁▁▁\n",
      " 8     0            0           0            0            1     ▇▁▁▁▁\n",
      " 9     0            0           0            0            1     ▇▁▁▁▁\n",
      "10     0            0           0            0            1     ▇▁▁▁▁\n",
      "11     0            0           0            0            1     ▇▁▁▁▁\n",
      "12     0            0           0            0            1     ▇▁▁▁▁\n",
      "13     0            0           0            0            1     ▇▁▁▁▁\n",
      "14     0            0           0            0            1     ▇▁▁▁▁\n",
      "15     0            0           0            0            1     ▇▁▁▁▁\n",
      "16     0            0           0            0            1     ▇▁▁▁▁\n",
      "17     0            0           0            0            1     ▇▁▁▁▁\n",
      "18     0            0           0            0            1     ▇▁▁▁▁\n",
      "19     0            0           0            0            1     ▇▁▁▁▁\n",
      "20     0            0           0            0            1     ▇▁▁▁▁\n",
      "21     0            0           0            0            1     ▇▁▁▁▁\n",
      "22     0            0           0            0            1     ▇▁▁▁▁\n",
      "23     0            0           0            0            1     ▇▁▁▁▁\n",
      "24     0            0           0            0            1     ▇▁▁▁▁\n",
      "25     0            0           0            0            1     ▇▁▁▁▁\n",
      "26     0            0           0            0            1     ▇▁▁▁▁\n",
      "27     0            0           0            0            1     ▇▁▁▁▁\n",
      "28     0            0           0            0            1     ▇▁▁▁▁\n",
      "29     0            0           0            0            1     ▇▁▁▁▁\n",
      "30    42          485         871         1698.        9015     ▇▁▁▁▁\n",
      "31    27          438.        842         1604.        8505     ▇▂▁▁▁\n",
      "32    18          367         810         1537         8149     ▇▂▁▁▁\n",
      "33     3.74         6.18        6.77         7.44         9.11  ▂▃▇▇▂\n",
      "34     3.30         6.08        6.74         7.38         9.05  ▁▂▇▇▂\n",
      "35     2.89         5.91        6.70         7.34         9.01  ▁▂▆▇▂\n",
      "36    -0.563       -0.0159      0.0421       0.0997       1.15  ▁▇▂▁▁\n",
      "37     0            0           1            1            1     ▅▁▁▁▇\n",
      "38  4690        23691       44658       100913.      786721     ▇▁▁▁▁\n",
      "39    27.3         38.0        56.4        122          250.    ▇▂▃▁▁\n",
      "40    27.3         37.8        50.9        117.       20806     ▇▁▁▁▁\n",
      "41     3.31         3.64        4.03         4.80         5.52  ▇▃▂▆▂\n",
      "42     3.31         3.63        3.93         4.76         9.94  ▇▃▁▁▁\n",
      "43     1            1           1         3599.       33971.    ▇▁▁▁▁\n",
      "44     0.3          1           1           56.6       3525.    ▇▁▁▁▁\n",
      "45     1            1           1            8.75      3255.    ▇▁▁▁▁\n",
      "46     0.6          1           1            1         7827.    ▇▁▁▁▁\n",
      "47     2            2           2         4049.       34505.    ▇▁▁▁▁\n",
      "48     0            0           0            8.12        10.4   ▇▁▁▁▃\n",
      "49    -1.20         0           0            3.41         8.17  ▇▁▁▁▁\n",
      "50     0.00001      0.00001     0.00001      0.00001      8.09  ▇▁▁▁▁\n",
      "51    -0.511        0.00001     0.00001      0.00001      8.97  ▇▁▁▁▁\n",
      "52     0.00001      0.00001     0.00001      8.31        10.4   ▇▁▁▂▃\n",
      "53     0            0           0            0            1     ▇▁▁▁▂\n",
      "54     0            0           0            0            1     ▇▁▁▁▂\n",
      "55 55209        62434       63210        63616        64163     ▁▁▁▂▇\n",
      "56 55687        62459       63204        63616        64131     ▁▁▁▂▇\n",
      "57   846         8152.      10605        11209        15790     ▁▁▂▇▁\n",
      "58 48358        51863       52335        54570        59760     ▁▇▂▂▁\n",
      "59   697         7493       10400        11128.       14299     ▁▁▂▇▂\n",
      "60 49806        51947       52419        55392        59868     ▂▇▂▂▁\n",
      "61     0            0           0            0            1     ▇▁▁▁▁\n",
      "62     0.00147      0.0148      0.0295       0.0531       0.270 ▇▁▁▁▁\n",
      "63     0.000971     0.0147      0.0292       0.0536       0.270 ▇▁▁▁▁\n",
      "64     3            7          10           13           15     ▅▃▇▅▇\n",
      "65     6            6           6         9691.       70489.    ▇▁▁▁▁\n"
     ]
    }
   ],
   "source": [
    "skim(df)"
   ]
  },
  {
   "cell_type": "markdown",
   "metadata": {},
   "source": [
    "##  <span style='color:royalblue'>  3. Run a regression of the natural logarithm of change in sales on the natural logarithm of previous period’s prices. </span>"
   ]
  },
  {
   "cell_type": "code",
   "execution_count": 6,
   "metadata": {},
   "outputs": [
    {
     "data": {
      "text/plain": [
       "\n",
       "Call:\n",
       "lm(formula = LnDiff ~ LnLPrice, data = df)\n",
       "\n",
       "Residuals:\n",
       "     Min       1Q   Median       3Q      Max \n",
       "-0.64941 -0.06471 -0.01342  0.03412  1.08970 \n",
       "\n",
       "Coefficients:\n",
       "            Estimate Std. Error t value Pr(>|t|)   \n",
       "(Intercept) -0.11940    0.05915  -2.019  0.04459 * \n",
       "LnLPrice     0.04155    0.01377   3.018  0.00281 **\n",
       "---\n",
       "Signif. codes:  0 ‘***’ 0.001 ‘**’ 0.01 ‘*’ 0.05 ‘.’ 0.1 ‘ ’ 1\n",
       "\n",
       "Residual standard error: 0.1723 on 248 degrees of freedom\n",
       "  (13 observations deleted due to missingness)\n",
       "Multiple R-squared:  0.03543,\tAdjusted R-squared:  0.03154 \n",
       "F-statistic:  9.11 on 1 and 248 DF,  p-value: 0.002807\n"
      ]
     },
     "metadata": {},
     "output_type": "display_data"
    }
   ],
   "source": [
    "model1 <- lm(LnDiff ~ LnLPrice, df)\n",
    "summary(model1)"
   ]
  },
  {
   "cell_type": "markdown",
   "metadata": {},
   "source": [
    "##  <span style='color:royalblue'>  4. To understand the influence of vodka quality, run a regression by adding tier 1 and tier 2 dummy variables. </span>"
   ]
  },
  {
   "cell_type": "code",
   "execution_count": 7,
   "metadata": {},
   "outputs": [
    {
     "data": {
      "text/plain": [
       "\n",
       "Call:\n",
       "lm(formula = LnDiff ~ LnLPrice + Tier1 + Tier2, data = df)\n",
       "\n",
       "Residuals:\n",
       "     Min       1Q   Median       3Q      Max \n",
       "-0.69098 -0.07163 -0.01123  0.04441  1.02773 \n",
       "\n",
       "Coefficients:\n",
       "            Estimate Std. Error t value Pr(>|t|)    \n",
       "(Intercept)  0.12206    0.08275   1.475 0.141466    \n",
       "LnLPrice    -0.03177    0.02222  -1.430 0.153922    \n",
       "Tier1        0.16245    0.04274   3.800 0.000182 ***\n",
       "Tier2        0.13202    0.03271   4.037 7.25e-05 ***\n",
       "---\n",
       "Signif. codes:  0 ‘***’ 0.001 ‘**’ 0.01 ‘*’ 0.05 ‘.’ 0.1 ‘ ’ 1\n",
       "\n",
       "Residual standard error: 0.1667 on 246 degrees of freedom\n",
       "  (13 observations deleted due to missingness)\n",
       "Multiple R-squared:  0.1045,\tAdjusted R-squared:  0.0936 \n",
       "F-statistic: 9.571 on 3 and 246 DF,  p-value: 5.316e-06\n"
      ]
     },
     "metadata": {},
     "output_type": "display_data"
    }
   ],
   "source": [
    "model2 <- lm(LnDiff ~ LnLPrice + Tier1 + Tier2, df)\n",
    "summary(model2)"
   ]
  },
  {
   "cell_type": "markdown",
   "metadata": {},
   "source": [
    "##  <span style='color:royalblue'>  5. Add the natural log of marketing expenditures on print, outdoor and broadcasting. </span>"
   ]
  },
  {
   "cell_type": "code",
   "execution_count": 8,
   "metadata": {},
   "outputs": [
    {
     "data": {
      "text/plain": [
       "\n",
       "Call:\n",
       "lm(formula = LnDiff ~ LnLPrice + Tier1 + Tier2 + LnPrint + LnOut + \n",
       "    LnBroad, data = df)\n",
       "\n",
       "Residuals:\n",
       "     Min       1Q   Median       3Q      Max \n",
       "-0.74956 -0.05876 -0.00335  0.04323  1.03341 \n",
       "\n",
       "Coefficients:\n",
       "             Estimate Std. Error t value Pr(>|t|)   \n",
       "(Intercept)  0.142982   0.082782   1.727  0.08540 . \n",
       "LnLPrice    -0.037669   0.022229  -1.695  0.09144 . \n",
       "Tier1        0.145045   0.057519   2.522  0.01232 * \n",
       "Tier2        0.130454   0.043547   2.996  0.00302 **\n",
       "LnPrint      0.009304   0.005070   1.835  0.06769 . \n",
       "LnOut       -0.012798   0.006078  -2.106  0.03626 * \n",
       "LnBroad     -0.004939   0.005350  -0.923  0.35676   \n",
       "---\n",
       "Signif. codes:  0 ‘***’ 0.001 ‘**’ 0.01 ‘*’ 0.05 ‘.’ 0.1 ‘ ’ 1\n",
       "\n",
       "Residual standard error: 0.1651 on 243 degrees of freedom\n",
       "  (13 observations deleted due to missingness)\n",
       "Multiple R-squared:  0.1329,\tAdjusted R-squared:  0.1115 \n",
       "F-statistic: 6.207 on 6 and 243 DF,  p-value: 4.441e-06\n"
      ]
     },
     "metadata": {},
     "output_type": "display_data"
    }
   ],
   "source": [
    "model3 <- lm(LnDiff ~ LnLPrice + Tier1 + Tier2 + LnPrint + LnOut + LnBroad, df)\n",
    "summary(model3)"
   ]
  },
  {
   "cell_type": "markdown",
   "metadata": {},
   "source": [
    "##  <span style='color:royalblue'>  6. To understand the influence of competition, run a regression by adding the sum of sales of all the competing brands in the previous year (“lagtotalminussales”) to the set of independent variables. </span>"
   ]
  },
  {
   "cell_type": "code",
   "execution_count": 9,
   "metadata": {},
   "outputs": [
    {
     "data": {
      "text/plain": [
       "\n",
       "Call:\n",
       "lm(formula = LnDiff ~ LnLPrice + Tier1 + Tier2 + LnPrint + LnOut + \n",
       "    LnBroad + LagTotalMinusSales, data = df)\n",
       "\n",
       "Residuals:\n",
       "     Min       1Q   Median       3Q      Max \n",
       "-0.76515 -0.05951 -0.00818  0.04514  1.01927 \n",
       "\n",
       "Coefficients:\n",
       "                     Estimate Std. Error t value Pr(>|t|)    \n",
       "(Intercept)        -1.788e+00  5.410e-01  -3.305 0.001096 ** \n",
       "LnLPrice           -5.719e-02  2.236e-02  -2.557 0.011155 *  \n",
       "Tier1               1.293e-01  5.632e-02   2.296 0.022557 *  \n",
       "Tier2               1.211e-01  4.259e-02   2.843 0.004851 ** \n",
       "LnPrint             1.150e-02  4.986e-03   2.306 0.021931 *  \n",
       "LnOut              -5.990e-03  6.225e-03  -0.962 0.336880    \n",
       "LnBroad             3.560e-03  5.728e-03   0.621 0.534867    \n",
       "LagTotalMinusSales  3.183e-05  8.818e-06   3.609 0.000373 ***\n",
       "---\n",
       "Signif. codes:  0 ‘***’ 0.001 ‘**’ 0.01 ‘*’ 0.05 ‘.’ 0.1 ‘ ’ 1\n",
       "\n",
       "Residual standard error: 0.1611 on 242 degrees of freedom\n",
       "  (13 observations deleted due to missingness)\n",
       "Multiple R-squared:  0.1772,\tAdjusted R-squared:  0.1534 \n",
       "F-statistic: 7.445 on 7 and 242 DF,  p-value: 4.119e-08\n"
      ]
     },
     "metadata": {},
     "output_type": "display_data"
    }
   ],
   "source": [
    "model4 <- lm(LnDiff ~ LnLPrice + Tier1 + Tier2 + LnPrint + LnOut + LnBroad + LagTotalMinusSales, df)\n",
    "summary(model4)"
   ]
  },
  {
   "cell_type": "markdown",
   "metadata": {},
   "source": [
    "##  <span style='color:royalblue'>  7. To measure the sales growth of new brands compared with the existent ones, include the variables “firstintro” to the variable set. </span>"
   ]
  },
  {
   "cell_type": "code",
   "execution_count": 10,
   "metadata": {},
   "outputs": [
    {
     "data": {
      "text/plain": [
       "\n",
       "Call:\n",
       "lm(formula = LnDiff ~ LnLPrice + Tier1 + Tier2 + LnPrint + LnOut + \n",
       "    LnBroad + LagTotalMinusSales + Firstintro, data = df)\n",
       "\n",
       "Residuals:\n",
       "     Min       1Q   Median       3Q      Max \n",
       "-0.73740 -0.05241 -0.00542  0.04732  0.87169 \n",
       "\n",
       "Coefficients:\n",
       "                     Estimate Std. Error t value Pr(>|t|)    \n",
       "(Intercept)        -1.624e+00  4.954e-01  -3.279 0.001197 ** \n",
       "LnLPrice           -8.645e-02  2.089e-02  -4.139 4.82e-05 ***\n",
       "Tier1               1.273e-01  5.152e-02   2.471 0.014147 *  \n",
       "Tier2               1.287e-01  3.897e-02   3.303 0.001102 ** \n",
       "LnPrint             1.289e-02  4.565e-03   2.824 0.005134 ** \n",
       "LnOut              -7.868e-03  5.701e-03  -1.380 0.168835    \n",
       "LnBroad             7.590e-03  5.272e-03   1.440 0.151247    \n",
       "LagTotalMinusSales  3.093e-05  8.067e-06   3.835 0.000161 ***\n",
       "Firstintro          5.427e-01  7.816e-02   6.943 3.53e-11 ***\n",
       "---\n",
       "Signif. codes:  0 ‘***’ 0.001 ‘**’ 0.01 ‘*’ 0.05 ‘.’ 0.1 ‘ ’ 1\n",
       "\n",
       "Residual standard error: 0.1474 on 241 degrees of freedom\n",
       "  (13 observations deleted due to missingness)\n",
       "Multiple R-squared:  0.3143,\tAdjusted R-squared:  0.2916 \n",
       "F-statistic: 13.81 on 8 and 241 DF,  p-value: < 2.2e-16\n"
      ]
     },
     "metadata": {},
     "output_type": "display_data"
    }
   ],
   "source": [
    "model5 <- lm(LnDiff ~ LnLPrice + Tier1 + Tier2 + LnPrint + LnOut + LnBroad + \n",
    "               LagTotalMinusSales + Firstintro, df)\n",
    "summary(model5)"
   ]
  }
 ],
 "metadata": {
  "kernelspec": {
   "display_name": "R",
   "language": "R",
   "name": "ir"
  },
  "language_info": {
   "codemirror_mode": "r",
   "file_extension": ".r",
   "mimetype": "text/x-r-source",
   "name": "R",
   "pygments_lexer": "r",
   "version": "3.6.1"
  }
 },
 "nbformat": 4,
 "nbformat_minor": 4
}
